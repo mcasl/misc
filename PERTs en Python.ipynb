{
 "cells": [
  {
   "cell_type": "code",
   "execution_count": 558,
   "metadata": {},
   "outputs": [],
   "source": [
    "import networkx as nx\n",
    "import numpy as np\n",
    "import matplotlib.pyplot as plt\n",
    "import pandas as pd\n",
    "import pygraphviz as pgv\n",
    "\n",
    "from IPython.display import Image\n",
    "\n",
    "%matplotlib notebook"
   ]
  },
  {
   "cell_type": "code",
   "execution_count": 568,
   "metadata": {},
   "outputs": [],
   "source": [
    "class PertGraph:\n",
    "    def __init__(self, data):\n",
    "        self.graph = nx.DiGraph()\n",
    "        for activity in data.to_records(index=True):\n",
    "            edge = (activity['nodo_inicial'], activity['nodo_final'] )\n",
    "            self.graph.add_edge(*edge)\n",
    "            self.graph.edges[edge]['nombre'] = activity['index']\n",
    "            self.graph.edges[edge]['duracion'] = activity['duracion']\n",
    "        self.calcula_pert()\n",
    "            \n",
    "    def calcula_pert(self):\n",
    "        lista_de_nodos = list(self.graph)\n",
    "        \n",
    "        # [0] sirve para inicializar el tiempo temprano del nodo inicial correctamente\n",
    "        # [self.graph.nodes[lista_de_nodos[-1]]['temprano']] sirve para inicializar el tiempo tardío del nodo final correctamente con el valor del tiempo temprano\n",
    "        \n",
    "        for nodo in lista_de_nodos:\n",
    "           self.graph.nodes[nodo]['temprano'] = max([0]+\n",
    "                                                    [(self.graph.nodes[inicial]['temprano'] + attributes['duracion']) \n",
    "                                                          for (inicial, final, attributes) in self.graph.in_edges(nodo, data=True) ] )\n",
    "        for nodo in lista_de_nodos[::-1]:\n",
    "           self.graph.nodes[nodo]['tardio'] = min([self.graph.nodes[lista_de_nodos[-1]]['temprano']]+\n",
    "                                                  [ (self.graph.nodes[final]['tardio'] - attributes['duracion'])\n",
    "                                                    for (inicial, final, attributes) in self.graph.out_edges(nodo, data=True) ] )\n",
    "        \n",
    "        for (nodo_inicial, nodo_final) in self.graph.edges:\n",
    "            self.graph.edges[nodo_inicial, nodo_final]['H_total'] = self.graph.nodes[nodo_final]['tardio'] - self.graph.edges[nodo_inicial, nodo_final]['duracion'] - self.graph.nodes[nodo_inicial]['temprano']\n",
    "\n",
    "    def duracion(self):\n",
    "        return  nx.dag_longest_path_length(self.graph, weight='duracion') \n",
    "    \n",
    "    def camino_critico(self):\n",
    "        return {'Actividades': [(attributes['nombre']) for (nodo_inicial, nodo_final, attributes) in pert.graph.edges(data=True) if attributes['H_total']==0],\n",
    "                'Nodos': nx.dag_longest_path(self.graph, weight='duracion')}\n",
    "    \n",
    "    def tiempos(self):\n",
    "        return pd.DataFrame(dict(pert.graph.nodes(data=True)))\n",
    "    \n",
    "    def holguras(self):\n",
    "        holguras = pd.DataFrame([{'H_total': attributes['H_total'], 'nombre': attributes['nombre']}\n",
    "                                             for (inicial, final, attributes) in self.graph.edges(data=True)]).set_index('nombre')\n",
    "        return holguras\n",
    "    def draw(self):\n",
    "        nx.draw(self.graph,with_labels=True)\n",
    "        \n",
    "    def Zaderenko(self):\n",
    "        a = pd.DataFrame(data=nx.adjacency_matrix(pert.graph, weight='duracion').todense(),\n",
    "                         index=  pert.graph.nodes(),\n",
    "                         columns= pert.graph.nodes()\n",
    "                        ).replace(0, np.nan)\n",
    "        T = pert.tiempos()\n",
    "        a['temprano'] = T.loc['temprano',:]\n",
    "        a = a.append(T.loc['tardio',:]).fillna('')\n",
    "        return a\n",
    "    \n",
    "    def write_dot(self, filename, size=None, orientation='landscape', rankdir='LR', ordering='out',\n",
    "                  ranksep=1, nodesep=1, rotate=0, **kwargs):\n",
    "        dot_graph = pgv.AGraph(size = size,\n",
    "                               orientation = orientation,\n",
    "                               rankdir = rankdir,\n",
    "                               ranksep = ranksep,\n",
    "                               nodesep = nodesep,\n",
    "                               rotate=rotate,\n",
    "                               directed=True,\n",
    "                               **kwargs) \n",
    "        dot_graph.node_attr['shape']='Mrecord'\n",
    "        dot_graph.add_edges_from(self.graph.edges)\n",
    "        \n",
    "        for nodo in dot_graph.nodes():\n",
    "            current_node = dot_graph.get_node(nodo)\n",
    "            node_number = int(nodo)\n",
    "            current_node.attr['label']=(f\"{node_number} | {{ \"\n",
    "                                        f\"<early> {self.graph.nodes[node_number]['temprano']} | \"\n",
    "                                        f\"<last>  {self.graph.nodes[node_number]['tardio']} }}\")\n",
    "        \n",
    "        for origin, destination in dot_graph.edges_iter():\n",
    "            current_edge = dot_graph.get_edge(origin, destination)\n",
    "            current_edge_tuple_of_ints = (int(origin), int(destination))\n",
    "            current_edge.attr['headport'] = 'early'\n",
    "            current_edge.attr['tailport'] = 'last'\n",
    "            current_edge.attr['label'] =(f\"{self.graph.edges[current_edge_tuple_of_ints]['nombre']}\"\n",
    "                                         f\"({self.graph.edges[current_edge_tuple_of_ints]['duracion']})\")\n",
    "                \n",
    "            if self.graph.edges[current_edge_tuple_of_ints]['H_total'] == 0:\n",
    "                current_edge.attr['color'] = 'red:red'\n",
    "                current_edge.attr['style'] = 'bold'\n",
    "            \n",
    "            if self.graph.edges[current_edge_tuple_of_ints]['nombre'][0] == 'f':\n",
    "                current_edge.attr['style'] = 'dashed'\n",
    "                                  \n",
    "        self.dot_graph = dot_graph\n",
    "        dot_graph.draw(filename, prog='dot')"
   ]
  },
  {
   "cell_type": "code",
   "execution_count": 569,
   "metadata": {},
   "outputs": [],
   "source": [
    "datos_pert = pd.DataFrame({ 'A':  (1, 2, 3),\n",
    "                            'B':  (1, 3, 2),\n",
    "                            'C':  (2, 3, 7),\n",
    "                            'D':  (2, 4, 5),\n",
    "                            'E':  (3, 5, 6),\n",
    "                            'F':  (3, 6, 7),\n",
    "                            'G':  (4, 5, 4),\n",
    "                            'H':  (5, 6, 4),\n",
    "                            'f1': (1, 5, 0),\n",
    "                            'f2': (2, 5, 0),\n",
    "                          },\n",
    "                          index=['nodo_inicial','nodo_final','duracion']).T"
   ]
  },
  {
   "cell_type": "code",
   "execution_count": 570,
   "metadata": {},
   "outputs": [],
   "source": [
    "pert = PertGraph(datos_pert)"
   ]
  },
  {
   "cell_type": "code",
   "execution_count": null,
   "metadata": {},
   "outputs": [],
   "source": [
    "filename='pert_dot.png'\n",
    "pert.write_dot(filename=filename, orientation='portrait', rotate=0)"
   ]
  },
  {
   "cell_type": "code",
   "execution_count": 579,
   "metadata": {},
   "outputs": [
    {
     "data": {
      "image/png": "[encoded data removed]",
      "text/plain": [
       "<IPython.core.display.Image object>"
      ]
     },
     "execution_count": 579,
     "metadata": {},
     "output_type": "execute_result"
    }
   ],
   "source": [
    "Image(filename)"
   ]
  },
  {
   "cell_type": "code",
   "execution_count": 580,
   "metadata": {},
   "outputs": [
    {
     "data": {
      "text/html": [
       "<div>\n",
       "<style scoped>\n",
       "    .dataframe tbody tr th:only-of-type {\n",
       "        vertical-align: middle;\n",
       "    }\n",
       "\n",
       "    .dataframe tbody tr th {\n",
       "        vertical-align: top;\n",
       "    }\n",
       "\n",
       "    .dataframe thead th {\n",
       "        text-align: right;\n",
       "    }\n",
       "</style>\n",
       "<table border=\"1\" class=\"dataframe\">\n",
       "  <thead>\n",
       "    <tr style=\"text-align: right;\">\n",
       "      <th></th>\n",
       "      <th>1</th>\n",
       "      <th>2</th>\n",
       "      <th>3</th>\n",
       "      <th>4</th>\n",
       "      <th>5</th>\n",
       "      <th>6</th>\n",
       "      <th>temprano</th>\n",
       "    </tr>\n",
       "  </thead>\n",
       "  <tbody>\n",
       "    <tr>\n",
       "      <th>1</th>\n",
       "      <td></td>\n",
       "      <td>3</td>\n",
       "      <td>2</td>\n",
       "      <td></td>\n",
       "      <td></td>\n",
       "      <td></td>\n",
       "      <td>0</td>\n",
       "    </tr>\n",
       "    <tr>\n",
       "      <th>2</th>\n",
       "      <td></td>\n",
       "      <td></td>\n",
       "      <td>7</td>\n",
       "      <td>5</td>\n",
       "      <td></td>\n",
       "      <td></td>\n",
       "      <td>3</td>\n",
       "    </tr>\n",
       "    <tr>\n",
       "      <th>3</th>\n",
       "      <td></td>\n",
       "      <td></td>\n",
       "      <td></td>\n",
       "      <td></td>\n",
       "      <td>6</td>\n",
       "      <td>7</td>\n",
       "      <td>10</td>\n",
       "    </tr>\n",
       "    <tr>\n",
       "      <th>4</th>\n",
       "      <td></td>\n",
       "      <td></td>\n",
       "      <td></td>\n",
       "      <td></td>\n",
       "      <td>4</td>\n",
       "      <td></td>\n",
       "      <td>8</td>\n",
       "    </tr>\n",
       "    <tr>\n",
       "      <th>5</th>\n",
       "      <td></td>\n",
       "      <td></td>\n",
       "      <td></td>\n",
       "      <td></td>\n",
       "      <td></td>\n",
       "      <td>4</td>\n",
       "      <td>16</td>\n",
       "    </tr>\n",
       "    <tr>\n",
       "      <th>6</th>\n",
       "      <td></td>\n",
       "      <td></td>\n",
       "      <td></td>\n",
       "      <td></td>\n",
       "      <td></td>\n",
       "      <td></td>\n",
       "      <td>20</td>\n",
       "    </tr>\n",
       "    <tr>\n",
       "      <th>tardio</th>\n",
       "      <td>0</td>\n",
       "      <td>3</td>\n",
       "      <td>10</td>\n",
       "      <td>12</td>\n",
       "      <td>16</td>\n",
       "      <td>20</td>\n",
       "      <td></td>\n",
       "    </tr>\n",
       "  </tbody>\n",
       "</table>\n",
       "</div>"
      ],
      "text/plain": [
       "        1  2   3   4   5   6 temprano\n",
       "1          3   2                    0\n",
       "2              7   5                3\n",
       "3                      6   7       10\n",
       "4                      4            8\n",
       "5                          4       16\n",
       "6                                  20\n",
       "tardio  0  3  10  12  16  20         "
      ]
     },
     "execution_count": 580,
     "metadata": {},
     "output_type": "execute_result"
    }
   ],
   "source": [
    "pert.Zaderenko()"
   ]
  },
  {
   "cell_type": "code",
   "execution_count": 581,
   "metadata": {},
   "outputs": [
    {
     "data": {
      "text/html": [
       "<div>\n",
       "<style scoped>\n",
       "    .dataframe tbody tr th:only-of-type {\n",
       "        vertical-align: middle;\n",
       "    }\n",
       "\n",
       "    .dataframe tbody tr th {\n",
       "        vertical-align: top;\n",
       "    }\n",
       "\n",
       "    .dataframe thead th {\n",
       "        text-align: right;\n",
       "    }\n",
       "</style>\n",
       "<table border=\"1\" class=\"dataframe\">\n",
       "  <thead>\n",
       "    <tr style=\"text-align: right;\">\n",
       "      <th></th>\n",
       "      <th>1</th>\n",
       "      <th>2</th>\n",
       "      <th>3</th>\n",
       "      <th>4</th>\n",
       "      <th>5</th>\n",
       "      <th>6</th>\n",
       "    </tr>\n",
       "  </thead>\n",
       "  <tbody>\n",
       "    <tr>\n",
       "      <th>tardio</th>\n",
       "      <td>0</td>\n",
       "      <td>3</td>\n",
       "      <td>10</td>\n",
       "      <td>12</td>\n",
       "      <td>16</td>\n",
       "      <td>20</td>\n",
       "    </tr>\n",
       "    <tr>\n",
       "      <th>temprano</th>\n",
       "      <td>0</td>\n",
       "      <td>3</td>\n",
       "      <td>10</td>\n",
       "      <td>8</td>\n",
       "      <td>16</td>\n",
       "      <td>20</td>\n",
       "    </tr>\n",
       "  </tbody>\n",
       "</table>\n",
       "</div>"
      ],
      "text/plain": [
       "          1  2   3   4   5   6\n",
       "tardio    0  3  10  12  16  20\n",
       "temprano  0  3  10   8  16  20"
      ]
     },
     "execution_count": 581,
     "metadata": {},
     "output_type": "execute_result"
    }
   ],
   "source": [
    "pert.tiempos()"
   ]
  },
  {
   "cell_type": "code",
   "execution_count": 582,
   "metadata": {},
   "outputs": [
    {
     "data": {
      "text/plain": [
       "20"
      ]
     },
     "execution_count": 582,
     "metadata": {},
     "output_type": "execute_result"
    }
   ],
   "source": [
    "pert.duracion()"
   ]
  },
  {
   "cell_type": "code",
   "execution_count": 583,
   "metadata": {},
   "outputs": [
    {
     "data": {
      "text/html": [
       "<div>\n",
       "<style scoped>\n",
       "    .dataframe tbody tr th:only-of-type {\n",
       "        vertical-align: middle;\n",
       "    }\n",
       "\n",
       "    .dataframe tbody tr th {\n",
       "        vertical-align: top;\n",
       "    }\n",
       "\n",
       "    .dataframe thead th {\n",
       "        text-align: right;\n",
       "    }\n",
       "</style>\n",
       "<table border=\"1\" class=\"dataframe\">\n",
       "  <thead>\n",
       "    <tr style=\"text-align: right;\">\n",
       "      <th></th>\n",
       "      <th>H_total</th>\n",
       "    </tr>\n",
       "    <tr>\n",
       "      <th>nombre</th>\n",
       "      <th></th>\n",
       "    </tr>\n",
       "  </thead>\n",
       "  <tbody>\n",
       "    <tr>\n",
       "      <th>A</th>\n",
       "      <td>0</td>\n",
       "    </tr>\n",
       "    <tr>\n",
       "      <th>B</th>\n",
       "      <td>8</td>\n",
       "    </tr>\n",
       "    <tr>\n",
       "      <th>f1</th>\n",
       "      <td>16</td>\n",
       "    </tr>\n",
       "    <tr>\n",
       "      <th>C</th>\n",
       "      <td>0</td>\n",
       "    </tr>\n",
       "    <tr>\n",
       "      <th>D</th>\n",
       "      <td>4</td>\n",
       "    </tr>\n",
       "    <tr>\n",
       "      <th>f2</th>\n",
       "      <td>13</td>\n",
       "    </tr>\n",
       "    <tr>\n",
       "      <th>E</th>\n",
       "      <td>0</td>\n",
       "    </tr>\n",
       "    <tr>\n",
       "      <th>F</th>\n",
       "      <td>3</td>\n",
       "    </tr>\n",
       "    <tr>\n",
       "      <th>G</th>\n",
       "      <td>4</td>\n",
       "    </tr>\n",
       "    <tr>\n",
       "      <th>H</th>\n",
       "      <td>0</td>\n",
       "    </tr>\n",
       "  </tbody>\n",
       "</table>\n",
       "</div>"
      ],
      "text/plain": [
       "        H_total\n",
       "nombre         \n",
       "A             0\n",
       "B             8\n",
       "f1           16\n",
       "C             0\n",
       "D             4\n",
       "f2           13\n",
       "E             0\n",
       "F             3\n",
       "G             4\n",
       "H             0"
      ]
     },
     "execution_count": 583,
     "metadata": {},
     "output_type": "execute_result"
    }
   ],
   "source": [
    "pert.holguras()"
   ]
  },
  {
   "cell_type": "code",
   "execution_count": 576,
   "metadata": {},
   "outputs": [
    {
     "data": {
      "text/plain": [
       "{'Actividades': ['A', 'C', 'E', 'H'], 'Nodos': [1, 2, 3, 5, 6]}"
      ]
     },
     "execution_count": 576,
     "metadata": {},
     "output_type": "execute_result"
    }
   ],
   "source": [
    "pert.camino_critico()"
   ]
  },
  {
   "cell_type": "code",
   "execution_count": null,
   "metadata": {},
   "outputs": [],
   "source": []
  },
  {
   "cell_type": "code",
   "execution_count": null,
   "metadata": {},
   "outputs": [],
   "source": []
  },
  {
   "cell_type": "code",
   "execution_count": null,
   "metadata": {},
   "outputs": [],
   "source": []
  }
 ],
 "metadata": {
  "kernelspec": {
   "display_name": "Python 3",
   "language": "python",
   "name": "python3"
  }
 },
 "nbformat": 4,
 "nbformat_minor": 2
}
